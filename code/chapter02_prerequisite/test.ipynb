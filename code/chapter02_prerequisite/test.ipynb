{
 "cells": [
  {
   "cell_type": "markdown",
   "metadata": {},
   "source": [
    "### 关于2.2节`clone`函数的梯度回传（回溯）问题\n",
    "> 1、`clone`函数生成的副本本身无梯度，梯度回传给源`Tensor`\n",
    "\n",
    "> 2、注意，只有`requires_grad=True`的变量才会参与求导，且该参数可以向下传递\n"
   ]
  },
  {
   "cell_type": "code",
   "execution_count": 24,
   "metadata": {},
   "outputs": [
    {
     "name": "stdout",
     "output_type": "stream",
     "text": [
      "tensor(1., requires_grad=True)\n",
      "tensor(2.)\n",
      "None\n",
      "tensor(5.)\n"
     ]
    }
   ],
   "source": [
    "import torch\n",
    "a = torch.tensor(1.0, requires_grad=True)\n",
    "a_=a.clone()\n",
    "print(a)\n",
    "y=a**2\n",
    "z=a_*3\n",
    "y.backward() #计算梯度\n",
    "print (a.grad)\n",
    "z.backward()\n",
    "print(a_.grad)\n",
    "print(a.grad) #回传给源tensor"
   ]
  }
 ],
 "metadata": {
  "interpreter": {
   "hash": "15e1fe4d033b95f48b2a8f5666286d05382569310f83ed9098391c2546a17f62"
  },
  "kernelspec": {
   "display_name": "Python 3.8.13 ('learn')",
   "language": "python",
   "name": "python3"
  },
  "language_info": {
   "codemirror_mode": {
    "name": "ipython",
    "version": 3
   },
   "file_extension": ".py",
   "mimetype": "text/x-python",
   "name": "python",
   "nbconvert_exporter": "python",
   "pygments_lexer": "ipython3",
   "version": "3.8.13"
  },
  "orig_nbformat": 4
 },
 "nbformat": 4,
 "nbformat_minor": 2
}
